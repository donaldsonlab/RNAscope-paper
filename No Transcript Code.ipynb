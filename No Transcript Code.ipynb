{
 "cells": [
  {
   "cell_type": "code",
   "execution_count": null,
   "id": "527548ef-34b7-4e4f-ba1c-5aeb4b14ed25",
   "metadata": {},
   "outputs": [],
   "source": [
    "conda install pandas"
   ]
  },
  {
   "cell_type": "code",
   "execution_count": null,
   "id": "99a16b60-9032-47d6-a2ac-259f3acec377",
   "metadata": {},
   "outputs": [],
   "source": [
    "conda install matplotlib"
   ]
  },
  {
   "cell_type": "code",
   "execution_count": null,
   "id": "6f358c61-8a47-4ef4-b246-fe6486e6ff86",
   "metadata": {},
   "outputs": [],
   "source": [
    "conda install numpy"
   ]
  },
  {
   "cell_type": "code",
   "execution_count": null,
   "id": "9eca37fd-fdda-4236-a6a4-097fa826034b",
   "metadata": {},
   "outputs": [],
   "source": [
    "conda install -c anaconda openpyxl"
   ]
  },
  {
   "cell_type": "code",
   "execution_count": 23,
   "id": "6d9d293c-6918-4039-ae2b-bdca91750798",
   "metadata": {
    "scrolled": true
   },
   "outputs": [
    {
     "name": "stdout",
     "output_type": "stream",
     "text": [
      "No data for region LEFT SHELL 3 in sheet F128\n",
      "No data for region RIGHT CORE 1 in sheet M160\n",
      "No data for region RIGHT SHELL 1 in sheet M160\n",
      "No data for region RIGHT SHELL 3 in sheet M160\n",
      "Results saved to NT_analysis_results.xlsx\n"
     ]
    },
    {
     "data": {
      "text/html": [
       "<a href='NT_analysis_results.xlsx' target='_blank'>NT_analysis_results.xlsx</a><br>"
      ],
      "text/plain": [
       "C:\\Users\\melo1934\\NT_analysis_results.xlsx"
      ]
     },
     "execution_count": 23,
     "metadata": {},
     "output_type": "execute_result"
    }
   ],
   "source": [
    "import pandas as pd\n",
    "from IPython.display import FileLink\n",
    "\n",
    "# Load the Excel file\n",
    "file_path = \"R3 L1 PM cellular distribution_8 bit.xlsx\"\n",
    "excel_data = pd.ExcelFile(file_path)\n",
    "\n",
    "# List the sheet names in the file\n",
    "sheet_names = excel_data.sheet_names\n",
    "\n",
    "# NT analysis functions\n",
    "def compile_all_regions_results(sheet_names, core_regions, shell_regions, channels):\n",
    "    all_results = []\n",
    "    for sheet in sheet_names:\n",
    "        for region_group, region_names in {\"CORE 1\": core_regions, \"SHELL 1\": shell_regions, \"SHELL 3\": shell_regions}.items():\n",
    "            for subregion in [f\"LEFT {region_group}\", f\"RIGHT {region_group}\"]:\n",
    "                result = separate_and_calculate_nt(\n",
    "                    sheet_name=sheet,\n",
    "                    region_name=region_group,\n",
    "                    specific_region=subregion,\n",
    "                    channels=channels,\n",
    "                )\n",
    "                all_results.append(result)\n",
    "\n",
    "            # Combine totals\n",
    "            left_result = all_results[-2]\n",
    "            right_result = all_results[-1]\n",
    "            if left_result[\"total_rois\"] != 0 and right_result[\"total_rois\"] != 0:\n",
    "                total_result = {\n",
    "                    \"sheet_name\": sheet,\n",
    "                    \"region_name\": region_group,\n",
    "                    \"specific_region\": f\"TOTAL {region_group}\",\n",
    "                    \"total_rois\": left_result[\"total_rois\"] + right_result[\"total_rois\"],\n",
    "                    \"nt_total\": left_result[\"nt_total\"] + right_result[\"nt_total\"],\n",
    "                    \"nt_percentage\": (\n",
    "                        (left_result[\"nt_total\"] + right_result[\"nt_total\"]) /\n",
    "                        (left_result[\"total_rois\"] + right_result[\"total_rois\"]) * 100\n",
    "                    ),\n",
    "                }\n",
    "            else:\n",
    "                total_result = {\n",
    "                    \"sheet_name\": sheet,\n",
    "                    \"region_name\": region_group,\n",
    "                    \"specific_region\": f\"TOTAL {region_group}\",\n",
    "                    \"total_rois\": \"Data not available\",\n",
    "                    \"nt_total\": \"Data not available\",\n",
    "                    \"nt_percentage\": \"Data not available\",\n",
    "                }\n",
    "            all_results.append(total_result)\n",
    "    return all_results\n",
    "\n",
    "def separate_and_calculate_nt(sheet_name, region_name, specific_region, channels):\n",
    "    df = pd.read_excel(file_path, sheet_name=sheet_name)\n",
    "\n",
    "    if 'Region' not in df.columns or 'ROI' not in df.columns:\n",
    "        print(f\"Missing columns in sheet {sheet_name}\")\n",
    "        return {\n",
    "            \"sheet_name\": sheet_name,\n",
    "            \"region_name\": region_name,\n",
    "            \"specific_region\": specific_region,\n",
    "            \"total_rois\": 0,\n",
    "            \"nt_total\": 0,\n",
    "            \"nt_percentage\": 0,\n",
    "        }\n",
    "\n",
    "    region_data = df[df['Region'] == specific_region]\n",
    "    if region_data.empty:\n",
    "        print(f\"No data for region {specific_region} in sheet {sheet_name}\")\n",
    "        return {\n",
    "            \"sheet_name\": sheet_name,\n",
    "            \"region_name\": region_name,\n",
    "            \"specific_region\": specific_region,\n",
    "            \"total_rois\": 0,\n",
    "            \"nt_total\": 0,\n",
    "            \"nt_percentage\": 0,\n",
    "        }\n",
    "\n",
    "    grouped = region_data.groupby('ROI', group_keys=False)\n",
    "    nt_total = grouped.apply(\n",
    "        lambda group: set(channels).issubset(group['Channel'].unique()) and all(group['Max'] == 0),\n",
    "        include_groups=False,\n",
    "    ).sum()\n",
    "\n",
    "    total_rois = region_data['ROI'].nunique()\n",
    "    nt_percentage = (nt_total / total_rois * 100) if total_rois > 0 else 0\n",
    "\n",
    "    return {\n",
    "        \"sheet_name\": sheet_name,\n",
    "        \"region_name\": region_name,\n",
    "        \"specific_region\": specific_region,\n",
    "        \"total_rois\": total_rois,\n",
    "        \"nt_total\": nt_total,\n",
    "        \"nt_percentage\": nt_percentage,\n",
    "    }\n",
    "\n",
    "# Perform NT analysis\n",
    "combined_regions_results = compile_all_regions_results(\n",
    "    sheet_names=sheet_names,\n",
    "    core_regions=[\"LEFT CORE 1\", \"RIGHT CORE 1\"],\n",
    "    shell_regions=[\"LEFT SHELL 1\", \"RIGHT SHELL 1\", \"LEFT SHELL 3\", \"RIGHT SHELL 3\"],\n",
    "    channels=[\"D1DR\", \"D2DR\", \"OXTR\"],\n",
    ")\n",
    "\n",
    "# Convert results to DataFrame\n",
    "combined_regions_results_df = pd.DataFrame(combined_regions_results)\n",
    "\n",
    "# Save the DataFrame to an Excel file\n",
    "output_file_path = \"NT_analysis_results.xlsx\"\n",
    "combined_regions_results_df.to_excel(output_file_path, index=False)\n",
    "print(f\"Results saved to {output_file_path}\")\n",
    "\n",
    "# Display a download link\n",
    "FileLink(output_file_path)\n"
   ]
  },
  {
   "cell_type": "code",
   "execution_count": null,
   "id": "e5005ad5-87a3-4651-a50d-70693a7e0c4d",
   "metadata": {},
   "outputs": [],
   "source": []
  }
 ],
 "metadata": {
  "kernelspec": {
   "display_name": "Python 3 (ipykernel)",
   "language": "python",
   "name": "python3"
  },
  "language_info": {
   "codemirror_mode": {
    "name": "ipython",
    "version": 3
   },
   "file_extension": ".py",
   "mimetype": "text/x-python",
   "name": "python",
   "nbconvert_exporter": "python",
   "pygments_lexer": "ipython3",
   "version": "3.12.4"
  }
 },
 "nbformat": 4,
 "nbformat_minor": 5
}
