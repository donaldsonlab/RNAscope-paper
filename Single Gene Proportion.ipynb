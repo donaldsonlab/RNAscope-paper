{
 "cells": [
  {
   "cell_type": "code",
   "execution_count": 1,
   "id": "4924b81f-de2d-4107-8e75-f2097377221d",
   "metadata": {},
   "outputs": [
    {
     "name": "stdout",
     "output_type": "stream",
     "text": [
      "Channels:\n",
      " - defaults\n",
      " - anaconda\n",
      "Platform: win-64\n",
      "Collecting package metadata (repodata.json): ...working... done\n",
      "Solving environment: ...working... done\n",
      "\n",
      "# All requested packages already installed.\n",
      "\n",
      "\n",
      "Note: you may need to restart the kernel to use updated packages.\n"
     ]
    }
   ],
   "source": [
    "conda install pandas"
   ]
  },
  {
   "cell_type": "code",
   "execution_count": 2,
   "id": "fad39d4a-2366-408b-ab4d-1e9bfd3e49cf",
   "metadata": {},
   "outputs": [
    {
     "name": "stdout",
     "output_type": "stream",
     "text": [
      "Channels:\n",
      " - defaults\n",
      " - anaconda\n",
      "Platform: win-64\n",
      "Collecting package metadata (repodata.json): ...working... done\n",
      "Solving environment: ...working... done\n",
      "\n",
      "# All requested packages already installed.\n",
      "\n",
      "\n",
      "Note: you may need to restart the kernel to use updated packages.\n"
     ]
    }
   ],
   "source": [
    "conda install matplotlib"
   ]
  },
  {
   "cell_type": "code",
   "execution_count": 3,
   "id": "81e46f1b-5874-48b0-bb6f-4fee3e1f939c",
   "metadata": {},
   "outputs": [
    {
     "name": "stdout",
     "output_type": "stream",
     "text": [
      "Channels:\n",
      " - defaults\n",
      " - anaconda\n",
      "Platform: win-64\n",
      "Collecting package metadata (repodata.json): ...working... done\n",
      "Solving environment: ...working... done\n",
      "\n",
      "# All requested packages already installed.\n",
      "\n",
      "\n",
      "Note: you may need to restart the kernel to use updated packages.\n"
     ]
    }
   ],
   "source": [
    "conda install numpy"
   ]
  },
  {
   "cell_type": "code",
   "execution_count": 4,
   "id": "9a5a7c19-422d-417e-92c8-61bdbc816603",
   "metadata": {},
   "outputs": [
    {
     "name": "stdout",
     "output_type": "stream",
     "text": [
      "Channels:\n",
      " - anaconda\n",
      " - defaults\n",
      "Platform: win-64\n",
      "Collecting package metadata (repodata.json): ...working... done\n",
      "Solving environment: ...working... done\n",
      "\n",
      "# All requested packages already installed.\n",
      "\n",
      "\n",
      "Note: you may need to restart the kernel to use updated packages.\n"
     ]
    }
   ],
   "source": [
    "conda install -c anaconda openpyxl"
   ]
  },
  {
   "cell_type": "code",
   "execution_count": 19,
   "id": "8eb95566-05df-4709-ab39-1b553d631d11",
   "metadata": {
    "scrolled": true
   },
   "outputs": [
    {
     "data": {
      "text/html": [
       "Download D1DR ROI Counts: <a href='D1DR_ROI_Counts.xlsx' target='_blank'>D1DR_ROI_Counts.xlsx</a><br>"
      ],
      "text/plain": [
       "C:\\Users\\melo1934\\D1DR_ROI_Counts.xlsx"
      ]
     },
     "metadata": {},
     "output_type": "display_data"
    },
    {
     "data": {
      "text/html": [
       "Download D2DR ROI Counts: <a href='D2DR_ROI_Counts.xlsx' target='_blank'>D2DR_ROI_Counts.xlsx</a><br>"
      ],
      "text/plain": [
       "C:\\Users\\melo1934\\D2DR_ROI_Counts.xlsx"
      ]
     },
     "metadata": {},
     "output_type": "display_data"
    },
    {
     "data": {
      "text/html": [
       "Download OXTR ROI Counts: <a href='OXTR_ROI_Counts.xlsx' target='_blank'>OXTR_ROI_Counts.xlsx</a><br>"
      ],
      "text/plain": [
       "C:\\Users\\melo1934\\OXTR_ROI_Counts.xlsx"
      ]
     },
     "metadata": {},
     "output_type": "display_data"
    }
   ],
   "source": [
    "# Reload the environment and process the file again\n",
    "import pandas as pd\n",
    "\n",
    "# Load the Excel file\n",
    "file_path = \"R3 L1 PM cellular distribution_8 bit.xlsx\"\n",
    "excel_data = pd.ExcelFile(file_path)\n",
    "\n",
    "# Function to add Region_Name and Specific_Region columns\n",
    "def process_and_fix_regions(file_path):\n",
    "    summary = []\n",
    "    for sheet in excel_data.sheet_names:\n",
    "        sheet_data = pd.read_excel(file_path, sheet_name=sheet)\n",
    "        \n",
    "        if 'Max' in sheet_data.columns and 'Channel' in sheet_data.columns and 'Region' in sheet_data.columns:\n",
    "            # Filter and group data\n",
    "            filtered_data = sheet_data[sheet_data['Max'] == 255]\n",
    "            grouped_data = (\n",
    "                filtered_data.groupby(['Region', 'Channel'])\n",
    "                .size()\n",
    "                .reset_index(name='Count')\n",
    "            )\n",
    "            grouped_data['Total ROI\\'s'] = (\n",
    "                sheet_data.groupby(['Region', 'Channel'])\n",
    "                .size()\n",
    "                .reset_index(name='Total ROI\\'s')['Total ROI\\'s']\n",
    "            )\n",
    "            grouped_data['Percentage'] = (grouped_data['Count'] / grouped_data['Total ROI\\'s']) * 100\n",
    "            grouped_data['Animal'] = sheet\n",
    "            \n",
    "            # Process Region_Name and Specific_Region\n",
    "            grouped_data['Region_Name'] = grouped_data['Region'].str.replace(r'^(LEFT|RIGHT) ', '', regex=True)\n",
    "            grouped_data['Region_Name'] = grouped_data['Region_Name'].str.replace(r' Combined$', '', regex=True)\n",
    "            grouped_data['Specific_Region'] = grouped_data['Region'].str.replace(r' Combined$', 'TOTAL', regex=False)\n",
    "            \n",
    "            summary.append(grouped_data)\n",
    "    \n",
    "    # Combine all sheets into one summary table\n",
    "    combined_summary = pd.concat(summary, ignore_index=True)\n",
    "    \n",
    "    # Add \"Total\" rows for each specific region (e.g., Core 1, Core 2)\n",
    "    total_rows = (\n",
    "        combined_summary\n",
    "        .groupby(['Animal', 'Channel', 'Region_Name'], as_index=False)\n",
    "        .agg({\n",
    "            'Total ROI\\'s': 'sum',\n",
    "            'Count': 'sum'\n",
    "        })\n",
    "    )\n",
    "    # Calculate the percentage for the total rows\n",
    "    total_rows['Percentage'] = (total_rows['Count'] / total_rows['Total ROI\\'s']) * 100\n",
    "    total_rows['Specific_Region'] = 'Total ' + total_rows['Region_Name']\n",
    "    \n",
    "    # Combine back into the summary\n",
    "    combined_summary = pd.concat([combined_summary, total_rows], ignore_index=True)\n",
    "    \n",
    "    # Ensure the correct columns and order\n",
    "    combined_summary = combined_summary[\n",
    "        ['Animal', 'Channel', 'Region_Name', 'Specific_Region', 'Total ROI\\'s', 'Count', 'Percentage']\n",
    "    ]\n",
    "    \n",
    "    return combined_summary\n",
    "\n",
    "# Apply the processing function\n",
    "final_table = process_and_fix_regions(file_path)\n",
    "\n",
    "# Split the data into separate tables for each channel\n",
    "d1dr_table_final = final_table[final_table['Channel'] == 'D1DR']\n",
    "d2dr_table_final = final_table[final_table['Channel'] == 'D2DR']\n",
    "oxtr_table_final = final_table[final_table['Channel'] == 'OXTR']\n",
    "\n",
    "\n",
    "# Save the final tables to Excel files for download\n",
    "output_path_d1dr = \"D1DR_ROI_Counts.xlsx\"\n",
    "output_path_d2dr = \"D2DR_ROI_Counts.xlsx\"\n",
    "output_path_oxtr = \"OXTR_ROI_Counts.xlsx\"\n",
    "\n",
    "d1dr_table_final.to_excel(output_path_d1dr, index=False)\n",
    "d2dr_table_final.to_excel(output_path_d2dr, index=False)\n",
    "oxtr_table_final.to_excel(output_path_oxtr, index=False)\n",
    "\n",
    "output_path_d1dr, output_path_d2dr, output_path_oxtr\n",
    "\n",
    "from IPython.display import FileLink, display\n",
    "\n",
    "# Display download links for the saved Excel files\n",
    "display(FileLink(output_path_d1dr, result_html_prefix=\"Download D1DR ROI Counts: \"))\n",
    "display(FileLink(output_path_d2dr, result_html_prefix=\"Download D2DR ROI Counts: \"))\n",
    "display(FileLink(output_path_oxtr, result_html_prefix=\"Download OXTR ROI Counts: \"))\n"
   ]
  },
  {
   "cell_type": "code",
   "execution_count": null,
   "id": "5f129ecb-6891-4709-8741-49646ac84a69",
   "metadata": {},
   "outputs": [],
   "source": []
  }
 ],
 "metadata": {
  "kernelspec": {
   "display_name": "Python 3 (ipykernel)",
   "language": "python",
   "name": "python3"
  },
  "language_info": {
   "codemirror_mode": {
    "name": "ipython",
    "version": 3
   },
   "file_extension": ".py",
   "mimetype": "text/x-python",
   "name": "python",
   "nbconvert_exporter": "python",
   "pygments_lexer": "ipython3",
   "version": "3.12.8"
  }
 },
 "nbformat": 4,
 "nbformat_minor": 5
}
